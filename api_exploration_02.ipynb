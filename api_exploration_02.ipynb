{
 "cells": [
  {
   "cell_type": "markdown",
   "id": "b932025f",
   "metadata": {},
   "source": [
    "# Import lib"
   ]
  },
  {
   "cell_type": "code",
   "execution_count": 1,
   "id": "4fa70a1f",
   "metadata": {},
   "outputs": [],
   "source": [
    "import requests\n",
    "import pandas as pd\n",
    "import folium\n",
    "import time\n",
    "import random\n",
    "import matplotlib.pyplot as plt\n",
    "import datetime\n",
    "import pprint"
   ]
  },
  {
   "cell_type": "code",
   "execution_count": 2,
   "id": "10ba4733",
   "metadata": {},
   "outputs": [],
   "source": [
    "#1 choisir une ville par numero de departement\n",
    "#2 afficher la population de la ville comme un fun fact (avec une ampoule à coté)\n",
    "#3 récupérer la liste des piezomètres avec l'opération 'station'\n",
    "#4 afficher la position des n piézomètre\n",
    "#5 Selectionner un piezomètre\n",
    "#6 afficher les courbe de la chronique avec l'opération 'chronique'"
   ]
  },
  {
   "cell_type": "markdown",
   "id": "ffa0f63f",
   "metadata": {},
   "source": [
    "# Recuperer le code Inses"
   ]
  },
  {
   "cell_type": "code",
   "execution_count": 3,
   "id": "4bc1fd97",
   "metadata": {},
   "outputs": [],
   "source": [
    "def recup_commune(departement):\n",
    "    #addresse api\n",
    "    curl = f'https://geo.api.gouv.fr/communes?codePostal={str(departement)}'\n",
    "    #requete api\n",
    "    commune_req = requests.get(curl).json()\n",
    "    \n",
    "    #json\n",
    "    commune = commune_req[0]\n",
    "    \n",
    "    #info\n",
    "    insee = commune['code']\n",
    "    ville = commune['nom']\n",
    "    population = commune['population']\n",
    "    \n",
    "    return insee, ville, population"
   ]
  },
  {
   "cell_type": "code",
   "execution_count": 4,
   "id": "8d01c42e",
   "metadata": {},
   "outputs": [
    {
     "name": "stdout",
     "output_type": "stream",
     "text": [
      "Strasbourg possède une population de 287,228 habitants\n"
     ]
    }
   ],
   "source": [
    "departement = 67000\n",
    "\n",
    "insee, ville, population = recup_commune(departement)\n",
    "\n",
    "print(\"{} possède une population de {:,.0f} habitants\".format(ville, population))"
   ]
  },
  {
   "cell_type": "markdown",
   "id": "bef267fa",
   "metadata": {},
   "source": [
    "# Recuperer la liste des stations"
   ]
  },
  {
   "cell_type": "code",
   "execution_count": 5,
   "id": "fdfdc00d",
   "metadata": {},
   "outputs": [],
   "source": [
    "def recup_list_stations(insee, ville):\n",
    "    #code de la ville\n",
    "    insee_str = str(insee)\n",
    "    #url pour la requete\n",
    "    station_url = f'https://hubeau.eaufrance.fr/api/v1/niveaux_nappes/stations?code_commune={insee_str}&format=json&size=20&pretty'\n",
    "    station_req = requests.get(station_url).json()\n",
    "    #list des stations piezometriques\n",
    "    stations = station_req['data']\n",
    "\n",
    "    print(f\"il y a {len(stations)} station(s) à {ville}\")\n",
    "    \n",
    "    return station_req, stations"
   ]
  },
  {
   "cell_type": "code",
   "execution_count": 6,
   "id": "bb8fb22a",
   "metadata": {},
   "outputs": [
    {
     "name": "stdout",
     "output_type": "stream",
     "text": [
      "il y a 20 station(s) à Strasbourg\n"
     ]
    }
   ],
   "source": [
    "station_req, stations = recup_list_stations(insee, ville)"
   ]
  },
  {
   "cell_type": "markdown",
   "id": "0092f4f6",
   "metadata": {},
   "source": [
    "# Choisir une station"
   ]
  },
  {
   "cell_type": "code",
   "execution_count": 7,
   "id": "dcb72127",
   "metadata": {},
   "outputs": [],
   "source": [
    "def print_station_date(station):\n",
    "    #information pour être print\n",
    "    n_mesures = station['nb_mesures_piezo']\n",
    "    date_debut = station['date_debut_mesure']\n",
    "    date_fin = station['date_fin_mesure']\n",
    "    \n",
    "    #recupère date sous format Timestamp\n",
    "    date_debut = pd.to_datetime(date_debut)\n",
    "    date_fin = pd.to_datetime(date_fin)\n",
    "    \n",
    "    #calcul deltat \n",
    "    delta_t = date_fin - date_debut\n",
    "    delta_t_an = delta_t.days / 365\n",
    "    delta_t_mois = delta_t.days / 30\n",
    "    \n",
    "    #mise en forme\n",
    "    delta_t_str = \"{:.2f}\".format(delta_t_an)\n",
    "    moy = n_mesures/(delta_t_mois) #permet d'avoir une idée de la résolution temporelle du graphique\n",
    "    moy_str = \"{:.2f} mesures/mois\".format(moy)\n",
    "    \n",
    "    #mise en forme des dates debut et fin\n",
    "    date_debut_str = date_debut.strftime(\"%Y-%m-%d\")\n",
    "    date_fin_str = date_fin.strftime(\"%Y-%m-%d\")\n",
    "    \n",
    "    print(f\"il y a {n_mesures} mesures | {date_debut_str} -> {date_fin_str} ({delta_t_str} ans) | moyenne = {moy_str}\")"
   ]
  },
  {
   "cell_type": "markdown",
   "id": "c021be6d",
   "metadata": {},
   "source": [
    "## Celle qui a le plus de mesures"
   ]
  },
  {
   "cell_type": "code",
   "execution_count": 8,
   "id": "ebd782ff",
   "metadata": {},
   "outputs": [
    {
     "name": "stdout",
     "output_type": "stream",
     "text": [
      "la station 02723X0900/245R1 possède le plus de mesure avec 1682 mesures.\n"
     ]
    }
   ],
   "source": [
    "def station_max_mesure(stations):\n",
    "    mesure_max = 0\n",
    "    code_bss = ''\n",
    "    station = {}\n",
    "\n",
    "    for s in stations:\n",
    "        mesures = s['nb_mesures_piezo']\n",
    "        if mesures > mesure_max:\n",
    "            mesure_max = mesures\n",
    "            code_bss = s['code_bss']\n",
    "            station = s\n",
    "    \n",
    "    print(f\"la station {code_bss} possède le plus de mesure avec {mesure_max} mesures.\")\n",
    "    \n",
    "    return station\n",
    "\n",
    "station = station_max_mesure(stations)"
   ]
  },
  {
   "cell_type": "code",
   "execution_count": 9,
   "id": "749842c2",
   "metadata": {},
   "outputs": [
    {
     "name": "stdout",
     "output_type": "stream",
     "text": [
      "il y a 1682 mesures | 1988-06-16 -> 2022-02-22 (33.71 ans) | moyenne = 4.10 mesures/mois\n"
     ]
    }
   ],
   "source": [
    "print_station_date(station)"
   ]
  },
  {
   "cell_type": "markdown",
   "id": "150a112e",
   "metadata": {},
   "source": [
    "## une au hasard"
   ]
  },
  {
   "cell_type": "code",
   "execution_count": 10,
   "id": "d5c79ffc",
   "metadata": {},
   "outputs": [
    {
     "name": "stdout",
     "output_type": "stream",
     "text": [
      "il y a 596 mesures | 1968-11-12 -> 1997-01-13 (28.19 ans) | moyenne = 1.74 mesures/mois\n"
     ]
    }
   ],
   "source": [
    "def random_station(stations):\n",
    "    n_stations = len(stations) - 1\n",
    "    idx = random.randint(0,n_stations)\n",
    "\n",
    "    station = stations[idx]\n",
    "    \n",
    "    print_station_date(station)\n",
    "    \n",
    "    return station\n",
    "\n",
    "station_hasard = random_station(stations)"
   ]
  },
  {
   "cell_type": "markdown",
   "id": "f93d8b0a",
   "metadata": {},
   "source": [
    "## Faire une liste"
   ]
  },
  {
   "cell_type": "code",
   "execution_count": 11,
   "id": "18800cfd",
   "metadata": {},
   "outputs": [],
   "source": [
    "df_stations = pd.DataFrame(stations) \n",
    "pd.set_option('display.max_columns', None)"
   ]
  },
  {
   "cell_type": "code",
   "execution_count": 56,
   "id": "2867903d",
   "metadata": {},
   "outputs": [
    {
     "data": {
      "text/html": [
       "<div>\n",
       "<style scoped>\n",
       "    .dataframe tbody tr th:only-of-type {\n",
       "        vertical-align: middle;\n",
       "    }\n",
       "\n",
       "    .dataframe tbody tr th {\n",
       "        vertical-align: top;\n",
       "    }\n",
       "\n",
       "    .dataframe thead th {\n",
       "        text-align: right;\n",
       "    }\n",
       "</style>\n",
       "<table border=\"1\" class=\"dataframe\">\n",
       "  <thead>\n",
       "    <tr style=\"text-align: right;\">\n",
       "      <th></th>\n",
       "      <th>code_bss</th>\n",
       "      <th>date_debut_mesure</th>\n",
       "      <th>date_fin_mesure</th>\n",
       "      <th>x</th>\n",
       "      <th>y</th>\n",
       "      <th>nb_mesures_piezo</th>\n",
       "      <th>date_maj</th>\n",
       "    </tr>\n",
       "  </thead>\n",
       "  <tbody>\n",
       "    <tr>\n",
       "      <th>0</th>\n",
       "      <td>02723X0255/SOC10</td>\n",
       "      <td>1969-05-10</td>\n",
       "      <td>1985-12-16</td>\n",
       "      <td>7.783675</td>\n",
       "      <td>48.594645</td>\n",
       "      <td>250</td>\n",
       "      <td>Wed Apr 22 20:39:08 CEST 2020</td>\n",
       "    </tr>\n",
       "    <tr>\n",
       "      <th>1</th>\n",
       "      <td>02723X0110/S20</td>\n",
       "      <td>1971-01-12</td>\n",
       "      <td>1971-08-31</td>\n",
       "      <td>7.779212</td>\n",
       "      <td>48.528374</td>\n",
       "      <td>30</td>\n",
       "      <td>Wed Apr 22 20:39:08 CEST 2020</td>\n",
       "    </tr>\n",
       "  </tbody>\n",
       "</table>\n",
       "</div>"
      ],
      "text/plain": [
       "           code_bss date_debut_mesure date_fin_mesure         x          y  \\\n",
       "0  02723X0255/SOC10        1969-05-10      1985-12-16  7.783675  48.594645   \n",
       "1    02723X0110/S20        1971-01-12      1971-08-31  7.779212  48.528374   \n",
       "\n",
       "   nb_mesures_piezo                       date_maj  \n",
       "0               250  Wed Apr 22 20:39:08 CEST 2020  \n",
       "1                30  Wed Apr 22 20:39:08 CEST 2020  "
      ]
     },
     "execution_count": 56,
     "metadata": {},
     "output_type": "execute_result"
    }
   ],
   "source": [
    "cols = ['code_bss', 'date_debut_mesure', 'date_fin_mesure', 'x', 'y', 'nb_mesures_piezo', 'date_maj']\n",
    "df_stations_light = df_stations[cols]\n",
    "df_stations_light.head(2)"
   ]
  },
  {
   "cell_type": "code",
   "execution_count": 57,
   "id": "983ee74f",
   "metadata": {},
   "outputs": [],
   "source": [
    "def return_list_position(df_stations):\n",
    "\n",
    "    positions_df = df_stations[['y', 'x', 'nb_mesures_piezo']]\n",
    "\n",
    "    list_positions = []\n",
    "    labels = []\n",
    "\n",
    "    for i in positions_df.index:\n",
    "        lon = positions_df.iloc[i, 0]\n",
    "        lat = positions_df.iloc[i, 1]\n",
    "        nbre_mesure = positions_df.iloc[i, 2]\n",
    "\n",
    "        loc = (lon, lat)\n",
    "\n",
    "        list_positions.append(loc)\n",
    "        labels.append(nbre_mesure)\n",
    "        \n",
    "    return list_positions, labels"
   ]
  },
  {
   "cell_type": "code",
   "execution_count": 64,
   "id": "e3440fa9",
   "metadata": {},
   "outputs": [
    {
     "data": {
      "application/vnd.jupyter.widget-view+json": {
       "model_id": "574c1d4e12b6444a98edd5b17fc43287",
       "version_major": 2,
       "version_minor": 0
      },
      "text/plain": [
       "Map(center=[48.594645, 7.783675], controls=(ZoomControl(options=['position', 'zoom_in_text', 'zoom_in_title', …"
      ]
     },
     "metadata": {},
     "output_type": "display_data"
    }
   ],
   "source": [
    "from ipyleaflet import Map, Marker\n",
    "\n",
    "positions, labels = return_list_position(df_stations)\n",
    "\n",
    "center = positions[0]\n",
    "\n",
    "m = Map(center=center, zoom=10)\n",
    "\n",
    "for loc in positions:\n",
    "    marker = Marker(location=loc, draggable=False)\n",
    "    m.add_layer(marker)\n",
    "\n",
    "m"
   ]
  },
  {
   "cell_type": "code",
   "execution_count": null,
   "id": "6bc038d7",
   "metadata": {},
   "outputs": [],
   "source": []
  },
  {
   "cell_type": "markdown",
   "id": "78b1c7e2",
   "metadata": {},
   "source": [
    "# Recup la chronique de la station"
   ]
  },
  {
   "cell_type": "code",
   "execution_count": 15,
   "id": "0748f8f9",
   "metadata": {},
   "outputs": [],
   "source": [
    "def recup_chronique(code_bss, size=5000):\n",
    "    \n",
    "    chronique_url = f'https://hubeau.eaufrance.fr/api/v1/niveaux_nappes/chroniques?code_bss={code_bss}&size={str(size)}'\n",
    "\n",
    "    chronique_req = requests.get(chronique_url).json()\n",
    "    chroniques = chronique_req['data']\n",
    "    print(f\"il y a {len(chroniques)} mesure(s)\")\n",
    "    \n",
    "    return chronique_req, chroniques"
   ]
  },
  {
   "cell_type": "code",
   "execution_count": 16,
   "id": "f9ba0f0f",
   "metadata": {},
   "outputs": [
    {
     "name": "stdout",
     "output_type": "stream",
     "text": [
      "il y a 500 mesure(s)\n"
     ]
    }
   ],
   "source": [
    "code_bss = str(station['code_bss'])\n",
    "\n",
    "chronique_req, chroniques = recup_chronique(code_bss, size=500)"
   ]
  },
  {
   "cell_type": "code",
   "execution_count": 17,
   "id": "c2cd314f",
   "metadata": {},
   "outputs": [
    {
     "data": {
      "text/plain": [
       "dict_keys(['count', 'first', 'last', 'prev', 'next', 'api_version', 'data'])"
      ]
     },
     "execution_count": 17,
     "metadata": {},
     "output_type": "execute_result"
    }
   ],
   "source": [
    "chronique_req.keys()"
   ]
  },
  {
   "cell_type": "code",
   "execution_count": 18,
   "id": "6ee77303",
   "metadata": {},
   "outputs": [
    {
     "data": {
      "text/plain": [
       "{'code_bss': '02723X0900/245R1',\n",
       " 'urn_bss': 'http://services.ades.eaufrance.fr/pointeau/02723X0900/245R1',\n",
       " 'date_mesure': '1988-06-16',\n",
       " 'timestamp_mesure': 582422400000,\n",
       " 'niveau_nappe_eau': 135.69,\n",
       " 'mode_obtention': 'Valeur mesurée',\n",
       " 'statut': 'Donnée contrôlée niveau 1',\n",
       " 'qualification': 'Correcte',\n",
       " 'code_continuite': '2',\n",
       " 'nom_continuite': 'Point lié au point précédent',\n",
       " 'code_producteur': '40494388800036',\n",
       " 'nom_producteur': 'APRONA (40494388800036)',\n",
       " 'code_nature_mesure': None,\n",
       " 'nom_nature_mesure': None,\n",
       " 'profondeur_nappe': 5.81}"
      ]
     },
     "execution_count": 18,
     "metadata": {},
     "output_type": "execute_result"
    }
   ],
   "source": [
    "chroniques[0]"
   ]
  },
  {
   "cell_type": "code",
   "execution_count": 19,
   "id": "51c51537",
   "metadata": {
    "scrolled": true
   },
   "outputs": [
    {
     "data": {
      "text/plain": [
       "<AxesSubplot:xlabel='date_mesure'>"
      ]
     },
     "execution_count": 19,
     "metadata": {},
     "output_type": "execute_result"
    },
    {
     "data": {
      "image/png": "[encoded data removed]",
      "text/plain": [
       "<Figure size 432x288 with 1 Axes>"
      ]
     },
     "metadata": {
      "needs_background": "light"
     },
     "output_type": "display_data"
    }
   ],
   "source": [
    "#transformation chroniques -> df time series\n",
    "\n",
    "#chroniques (list) -> df\n",
    "df_chronique = pd.DataFrame(chroniques)\n",
    "# df -> .csv\n",
    "df_chronique.to_csv('data.csv', index=False)\n",
    "# csv -> df time series\n",
    "df = pd.read_csv('data.csv', index_col='date_mesure', parse_dates=True)\n",
    "#plot\n",
    "df['niveau_nappe_eau'].plot()"
   ]
  },
  {
   "cell_type": "code",
   "execution_count": null,
   "id": "b22d4ac5",
   "metadata": {},
   "outputs": [],
   "source": []
  }
 ],
 "metadata": {
  "kernelspec": {
   "display_name": "Python 3.9.7 ('myenv')",
   "language": "python",
   "name": "python397jvsc74a57bd0e47b1a34c05c1e3b83a62d7885c9d1b5ef8a0522d3be0182d0a008ec409b2b3d"
  },
  "language_info": {
   "codemirror_mode": {
    "name": "ipython",
    "version": 3
   },
   "file_extension": ".py",
   "mimetype": "text/x-python",
   "name": "python",
   "nbconvert_exporter": "python",
   "pygments_lexer": "ipython3",
   "version": "3.9.7"
  }
 },
 "nbformat": 4,
 "nbformat_minor": 5
}
