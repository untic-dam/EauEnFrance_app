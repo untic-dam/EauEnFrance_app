{
 "cells": [
  {
   "cell_type": "markdown",
   "id": "b932025f",
   "metadata": {},
   "source": [
    "# Import lib"
   ]
  },
  {
   "cell_type": "code",
   "execution_count": 1,
   "id": "4fa70a1f",
   "metadata": {},
   "outputs": [],
   "source": [
    "import requests\n",
    "import pandas as pd\n",
    "import folium\n",
    "import time\n",
    "import random\n",
    "import matplotlib.pyplot as plt\n",
    "import datetime"
   ]
  },
  {
   "cell_type": "code",
   "execution_count": 2,
   "id": "10ba4733",
   "metadata": {},
   "outputs": [],
   "source": [
    "#1 choisir une ville par numero de departement\n",
    "#2 afficher la population de la ville comme un fun fact (avec une ampoule à coté)\n",
    "#3 récupérer la liste des piezomètres avec l'opération 'station'\n",
    "#4 afficher la position des n piézomètre\n",
    "#5 Selectionner un piezomètre\n",
    "#6 afficher les courbe de la chronique avec l'opération 'chronique'"
   ]
  },
  {
   "cell_type": "markdown",
   "id": "3afb84a2",
   "metadata": {},
   "source": [
    "# Fonctions"
   ]
  },
  {
   "cell_type": "code",
   "execution_count": 3,
   "id": "4bc1fd97",
   "metadata": {},
   "outputs": [],
   "source": [
    "def recup_commune(departement):\n",
    "    #addresse api\n",
    "    curl = f'https://geo.api.gouv.fr/communes?codePostal={str(departement)}'\n",
    "    #requete api\n",
    "    commune_req = requests.get(curl).json()\n",
    "    \n",
    "    #json\n",
    "    commune = commune_req[0]\n",
    "    \n",
    "    #info\n",
    "    insee = commune['code']\n",
    "    ville = commune['nom']\n",
    "    population = commune['population']\n",
    "    \n",
    "    print(\"{} possède une population de {:,.0f} habitants\".format(ville, population))\n",
    "    \n",
    "    return insee, ville, population"
   ]
  },
  {
   "cell_type": "code",
   "execution_count": 4,
   "id": "fdfdc00d",
   "metadata": {},
   "outputs": [],
   "source": [
    "def recup_list_stations(insee, ville):\n",
    "    #code de la ville\n",
    "    insee_str = str(insee)\n",
    "    #url pour la requete\n",
    "    station_url = f'https://hubeau.eaufrance.fr/api/v1/niveaux_nappes/stations?code_commune={insee_str}&format=json&size=20&pretty'\n",
    "    station_req = requests.get(station_url).json()\n",
    "    #list des stations piezometriques\n",
    "    stations = station_req['data']\n",
    "\n",
    "    print(f\"il y a {len(stations)} station(s) à {ville}\")\n",
    "    \n",
    "    return station_req, stations"
   ]
  },
  {
   "cell_type": "code",
   "execution_count": 5,
   "id": "3e90da79",
   "metadata": {},
   "outputs": [],
   "source": [
    "def print_station_date(station):\n",
    "    #information pour être print\n",
    "    n_mesures = station['nb_mesures_piezo']\n",
    "    date_debut = station['date_debut_mesure']\n",
    "    date_fin = station['date_fin_mesure']\n",
    "    \n",
    "    #recupère date sous format Timestamp\n",
    "    date_debut = pd.to_datetime(date_debut)\n",
    "    date_fin = pd.to_datetime(date_fin)\n",
    "    \n",
    "    #calcul deltat \n",
    "    delta_t = date_fin - date_debut\n",
    "    delta_t_an = delta_t.days / 365\n",
    "    delta_t_mois = delta_t.days / 30\n",
    "    \n",
    "    #mise en forme\n",
    "    delta_t_str = \"{:.2f}\".format(delta_t_an)\n",
    "    moy = n_mesures/(delta_t_mois) #permet d'avoir une idée de la résolution temporelle du graphique\n",
    "    moy_str = \"{:.2f} mesures/mois\".format(moy)\n",
    "    \n",
    "    #mise en forme des dates debut et fin\n",
    "    date_debut_str = date_debut.strftime(\"%Y-%m-%d\")\n",
    "    date_fin_str = date_fin.strftime(\"%Y-%m-%d\")\n",
    "    \n",
    "    print(f\"il y a {n_mesures} mesures | {date_debut_str} -> {date_fin_str} ({delta_t_str} ans) | moyenne = {moy_str}\")"
   ]
  },
  {
   "cell_type": "code",
   "execution_count": 6,
   "id": "1340a5fd",
   "metadata": {},
   "outputs": [],
   "source": [
    "def random_station(stations):\n",
    "    n_stations = len(stations) - 1\n",
    "    idx = random.randint(0,n_stations)\n",
    "\n",
    "    station = stations[idx]\n",
    "    \n",
    "    print_station_date(station)\n",
    "    \n",
    "    return station"
   ]
  },
  {
   "cell_type": "code",
   "execution_count": 7,
   "id": "0134608d",
   "metadata": {},
   "outputs": [],
   "source": [
    "def recup_chronique(station, size=1000):\n",
    "    code_bss = str(station['code_bss'])\n",
    "    \n",
    "    chronique_url = f'https://hubeau.eaufrance.fr/api/v1/niveaux_nappes/chroniques?code_bss={code_bss}&size={str(size)}'\n",
    "\n",
    "    chronique_req = requests.get(chronique_url).json()\n",
    "    chroniques = chronique_req['data']\n",
    "    print(f\"il y a {len(chroniques)} mesure(s)\")\n",
    "    \n",
    "    return chronique_req, chroniques"
   ]
  },
  {
   "cell_type": "markdown",
   "id": "ed22fa7b",
   "metadata": {},
   "source": [
    "# Main"
   ]
  },
  {
   "cell_type": "code",
   "execution_count": 20,
   "id": "d8596407",
   "metadata": {},
   "outputs": [
    {
     "name": "stdout",
     "output_type": "stream",
     "text": [
      "Wolfisheim possède une population de 4,174 habitants\n",
      "il y a 2 station(s) à Wolfisheim\n",
      "il y a 291 mesures | 1967-08-01 -> 1998-01-28 (30.52 ans) | moyenne = 0.78 mesures/mois\n",
      "il y a 291 mesure(s)\n"
     ]
    }
   ],
   "source": [
    "#1 choisir une ville par numero de departement\n",
    "#2 afficher la population de la ville comme un fun fact (avec une ampoule à coté)\n",
    "#3 récupérer la liste des piezomètres avec l'opération 'station'\n",
    "#4 afficher la position des n piézomètre\n",
    "#5 Selectionner un piezomètre\n",
    "#6 afficher les courbe de la chronique avec l'opération 'chronique'\n",
    "\n",
    "departement = 67202\n",
    "\n",
    "insee, ville, population = recup_commune(departement)\n",
    "\n",
    "station_req, stations = recup_list_stations(insee, ville)\n",
    "\n",
    "station = random_station(stations)\n",
    "\n",
    "chronique_req, chroniques = recup_chronique(station, size=2000)\n",
    "\n"
   ]
  }
 ],
 "metadata": {
  "kernelspec": {
   "display_name": "Python 3.9.7 ('myenv')",
   "language": "python",
   "name": "python397jvsc74a57bd0e47b1a34c05c1e3b83a62d7885c9d1b5ef8a0522d3be0182d0a008ec409b2b3d"
  },
  "language_info": {
   "codemirror_mode": {
    "name": "ipython",
    "version": 3
   },
   "file_extension": ".py",
   "mimetype": "text/x-python",
   "name": "python",
   "nbconvert_exporter": "python",
   "pygments_lexer": "ipython3",
   "version": "3.9.7"
  }
 },
 "nbformat": 4,
 "nbformat_minor": 5
}
