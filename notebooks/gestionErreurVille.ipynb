{
 "cells": [
  {
   "cell_type": "markdown",
   "id": "b932025f",
   "metadata": {},
   "source": [
    "# Import lib"
   ]
  },
  {
   "cell_type": "code",
   "execution_count": 1,
   "id": "4fa70a1f",
   "metadata": {},
   "outputs": [],
   "source": [
    "import requests\n",
    "import pandas as pd\n",
    "import folium\n",
    "import time\n",
    "import random\n",
    "import matplotlib.pyplot as plt\n",
    "import datetime\n",
    "import pprint"
   ]
  },
  {
   "cell_type": "code",
   "execution_count": 2,
   "id": "10ba4733",
   "metadata": {},
   "outputs": [],
   "source": [
    "#1 choisir une ville par numero de departement\n",
    "#2 afficher la population de la ville comme un fun fact (avec une ampoule à coté)\n",
    "#3 récupérer la liste des piezomètres avec l'opération 'station'\n",
    "#4 afficher la position des n piézomètre\n",
    "#5 Selectionner un piezomètre\n",
    "#6 afficher les courbe de la chronique avec l'opération 'chronique'"
   ]
  },
  {
   "cell_type": "markdown",
   "id": "ffa0f63f",
   "metadata": {},
   "source": [
    "# Recuperer le code Inses"
   ]
  },
  {
   "cell_type": "code",
   "execution_count": 3,
   "id": "4bc1fd97",
   "metadata": {},
   "outputs": [],
   "source": [
    "def recup_commune_code_postal(code_postal):\n",
    "    #addresse api\n",
    "    curl = f'https://geo.api.gouv.fr/communes?codePostal={str(code_postal)}'\n",
    "    #requete api\n",
    "    commune_req = requests.get(curl).json()\n",
    "    \n",
    "    #json\n",
    "    commune = commune_req[0]\n",
    "    \n",
    "    #info\n",
    "    insee = commune['code']\n",
    "    ville = commune['nom']\n",
    "    \n",
    "    return insee, ville"
   ]
  },
  {
   "cell_type": "code",
   "execution_count": 4,
   "id": "cb257cf2",
   "metadata": {},
   "outputs": [],
   "source": [
    "def recup_commune_nom_ville(nom_ville):\n",
    "    #addresse api\n",
    "    #curl 'https://geo.api.gouv.fr/communes?nom=Carcassonne&fields=departement&boost=population&limit=5'\n",
    "    curl = f'https://geo.api.gouv.fr/communes?nom={str(nom_ville)}&fields=departement&boost=population&limit=5'\n",
    "    #requete api\n",
    "    commune_req = requests.get(curl).json()\n",
    "    \n",
    "    #json\n",
    "    commune = commune_req[0]\n",
    "    \n",
    "    #info\n",
    "    insee = commune['code']\n",
    "    ville = commune['nom']\n",
    "    \n",
    "    return insee, ville"
   ]
  },
  {
   "cell_type": "code",
   "execution_count": 5,
   "id": "8d01c42e",
   "metadata": {},
   "outputs": [
    {
     "name": "stdout",
     "output_type": "stream",
     "text": [
      "code postal ou nom de ville inconnue. \n",
      "ville par défaut : Carcassonne\n",
      "code : 11069 | ville : Carcassonne\n"
     ]
    }
   ],
   "source": [
    "val = 'nantdderre'\n",
    "ville_inconnue = False\n",
    "code_postal_inconnue = False\n",
    "\n",
    "#essaye code postal\n",
    "try:\n",
    "    insee, ville = recup_commune_code_postal(val)\n",
    "except:\n",
    "    code_postal_inconnue = True\n",
    "\n",
    "#essaye nom ville\n",
    "try:\n",
    "    insee, ville = recup_commune_nom_ville(val)\n",
    "except:\n",
    "    ville_inconnue = True\n",
    "\n",
    "#permet de gérer nom de ville et departement inconnue\n",
    "if (code_postal_inconnue and ville_inconnue) == True:\n",
    "    ville_par_defaut = 'Carcassonne' \n",
    "    insee, ville = recup_commune_nom_ville(ville_par_defaut)\n",
    "    print(f'code postal ou nom de ville inconnue. \\nville par défaut : {ville_par_defaut}')\n",
    "\n",
    "print(f'code : {insee} | ville : {ville}')"
   ]
  },
  {
   "cell_type": "code",
   "execution_count": 9,
   "id": "58b6cfd3",
   "metadata": {},
   "outputs": [],
   "source": [
    "def recup_code_insee(user_request):\n",
    "    ville_par_defaut = 'Carcassonne' \n",
    "    ville_inconnue = False\n",
    "    code_postal_inconnue = False\n",
    "\n",
    "    #essaye code postal\n",
    "    try:\n",
    "        insee, ville = recup_commune_code_postal(user_request)\n",
    "    except:\n",
    "        code_postal_inconnue = True\n",
    "\n",
    "    #essaye nom ville\n",
    "    try:\n",
    "        insee, ville = recup_commune_nom_ville(user_request)\n",
    "    except:\n",
    "        ville_inconnue = True\n",
    "\n",
    "    #permet de gérer nom de ville et departement inconnue\n",
    "    if (code_postal_inconnue and ville_inconnue) == True:\n",
    "        insee, ville = recup_commune_nom_ville(ville_par_defaut)\n",
    "        print(f'code postal ou nom de ville inconnue. \\nville par défaut : {ville_par_defaut}\\n')\n",
    "        \n",
    "    return insee, ville"
   ]
  },
  {
   "cell_type": "code",
   "execution_count": 10,
   "id": "f00767db",
   "metadata": {},
   "outputs": [
    {
     "name": "stdout",
     "output_type": "stream",
     "text": [
      "code postal ou nom de ville inconnue. \n",
      "ville par défaut : Carcassonne\n",
      "\n",
      "code : 11069 | ville : Carcassonne\n"
     ]
    }
   ],
   "source": [
    "insee, ville = recup_code_insee('6544')\n",
    "print(f'code : {insee} | ville : {ville}')"
   ]
  },
  {
   "cell_type": "code",
   "execution_count": null,
   "id": "be514ea2",
   "metadata": {},
   "outputs": [],
   "source": []
  }
 ],
 "metadata": {
  "kernelspec": {
   "display_name": "Python 3.9.7 ('myenv')",
   "language": "python",
   "name": "python397jvsc74a57bd0e47b1a34c05c1e3b83a62d7885c9d1b5ef8a0522d3be0182d0a008ec409b2b3d"
  },
  "language_info": {
   "codemirror_mode": {
    "name": "ipython",
    "version": 3
   },
   "file_extension": ".py",
   "mimetype": "text/x-python",
   "name": "python",
   "nbconvert_exporter": "python",
   "pygments_lexer": "ipython3",
   "version": "3.9.7"
  }
 },
 "nbformat": 4,
 "nbformat_minor": 5
}
