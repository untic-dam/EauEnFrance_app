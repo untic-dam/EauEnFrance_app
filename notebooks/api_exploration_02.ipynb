{
 "cells": [
  {
   "cell_type": "markdown",
   "id": "b932025f",
   "metadata": {},
   "source": [
    "# Import lib"
   ]
  },
  {
   "cell_type": "code",
   "execution_count": 1,
   "id": "4fa70a1f",
   "metadata": {},
   "outputs": [],
   "source": [
    "import requests\n",
    "import pandas as pd\n",
    "import folium\n",
    "import time\n",
    "import random\n",
    "import matplotlib.pyplot as plt\n",
    "import datetime\n",
    "import pprint"
   ]
  },
  {
   "cell_type": "code",
   "execution_count": 2,
   "id": "10ba4733",
   "metadata": {},
   "outputs": [],
   "source": [
    "#1 choisir une ville par numero de departement\n",
    "#2 afficher la population de la ville comme un fun fact (avec une ampoule à coté)\n",
    "#3 récupérer la liste des piezomètres avec l'opération 'station'\n",
    "#4 afficher la position des n piézomètre\n",
    "#5 Selectionner un piezomètre\n",
    "#6 afficher les courbe de la chronique avec l'opération 'chronique'"
   ]
  },
  {
   "cell_type": "markdown",
   "id": "ffa0f63f",
   "metadata": {},
   "source": [
    "# Recuperer le code Inses"
   ]
  },
  {
   "cell_type": "code",
   "execution_count": 3,
   "id": "4bc1fd97",
   "metadata": {},
   "outputs": [],
   "source": [
    "def recup_commune(code_postale):\n",
    "    #addresse api\n",
    "    curl = f'https://geo.api.gouv.fr/communes?codePostal={str(code_postale)}'\n",
    "    #requete api\n",
    "    commune_req = requests.get(curl).json()\n",
    "    \n",
    "    #json\n",
    "    commune = commune_req[0]\n",
    "    \n",
    "    #info\n",
    "    insee = commune['code']\n",
    "    ville = commune['nom']\n",
    "    population = commune['population']\n",
    "    \n",
    "    return insee, ville, population"
   ]
  },
  {
   "cell_type": "code",
   "execution_count": 4,
   "id": "8d01c42e",
   "metadata": {},
   "outputs": [
    {
     "name": "stdout",
     "output_type": "stream",
     "text": [
      "Strasbourg possède une population de 287,228 habitants\n"
     ]
    }
   ],
   "source": [
    "code_postale = 67000\n",
    "\n",
    "insee, ville, population = recup_commune(code_postale)\n",
    "\n",
    "print(\"{} possède une population de {:,.0f} habitants\".format(ville, population))"
   ]
  },
  {
   "cell_type": "markdown",
   "id": "bef267fa",
   "metadata": {},
   "source": [
    "# Recuperer la liste des stations"
   ]
  },
  {
   "cell_type": "code",
   "execution_count": 5,
   "id": "fdfdc00d",
   "metadata": {},
   "outputs": [],
   "source": [
    "def recup_list_stations(insee, ville):\n",
    "    #code de la ville\n",
    "    insee_str = str(insee)\n",
    "    #url pour la requete\n",
    "    station_url = f'https://hubeau.eaufrance.fr/api/v1/niveaux_nappes/stations?code_commune={insee_str}&format=json&size=20&pretty'\n",
    "    station_req = requests.get(station_url).json()\n",
    "    #list des stations piezometriques\n",
    "    stations = station_req['data']\n",
    "\n",
    "    print(f\"il y a {len(stations)} station(s) à {ville}\")\n",
    "    \n",
    "    return station_req, stations"
   ]
  },
  {
   "cell_type": "code",
   "execution_count": 6,
   "id": "bb8fb22a",
   "metadata": {},
   "outputs": [
    {
     "name": "stdout",
     "output_type": "stream",
     "text": [
      "il y a 20 station(s) à Strasbourg\n"
     ]
    }
   ],
   "source": [
    "station_req, stations = recup_list_stations(insee, ville)"
   ]
  },
  {
   "cell_type": "markdown",
   "id": "0092f4f6",
   "metadata": {},
   "source": [
    "# Choisir une station"
   ]
  },
  {
   "cell_type": "code",
   "execution_count": 7,
   "id": "dcb72127",
   "metadata": {},
   "outputs": [],
   "source": [
    "def print_station_date(station):\n",
    "    #information pour être print\n",
    "    n_mesures = station['nb_mesures_piezo']\n",
    "    date_debut = station['date_debut_mesure']\n",
    "    date_fin = station['date_fin_mesure']\n",
    "    \n",
    "    #recupère date sous format Timestamp\n",
    "    date_debut = pd.to_datetime(date_debut)\n",
    "    date_fin = pd.to_datetime(date_fin)\n",
    "    \n",
    "    #calcul deltat \n",
    "    delta_t = date_fin - date_debut\n",
    "    delta_t_an = delta_t.days / 365\n",
    "    delta_t_mois = delta_t.days / 30\n",
    "    \n",
    "    #mise en forme\n",
    "    delta_t_str = \"{:.2f}\".format(delta_t_an)\n",
    "    moy = n_mesures/(delta_t_mois) #permet d'avoir une idée de la résolution temporelle du graphique\n",
    "    moy_str = \"{:.2f} mesures/mois\".format(moy)\n",
    "    \n",
    "    #mise en forme des dates debut et fin\n",
    "    date_debut_str = date_debut.strftime(\"%Y-%m-%d\")\n",
    "    date_fin_str = date_fin.strftime(\"%Y-%m-%d\")\n",
    "    \n",
    "    print(f\"il y a {n_mesures} mesures | {date_debut_str} -> {date_fin_str} ({delta_t_str} ans) | moyenne = {moy_str}\")"
   ]
  },
  {
   "cell_type": "markdown",
   "id": "c021be6d",
   "metadata": {},
   "source": [
    "## Celle qui a le plus de mesures"
   ]
  },
  {
   "cell_type": "code",
   "execution_count": 8,
   "id": "ebd782ff",
   "metadata": {},
   "outputs": [
    {
     "name": "stdout",
     "output_type": "stream",
     "text": [
      "la station 02723X0900/245R1 possède le plus de mesure avec 1682 mesures.\n"
     ]
    }
   ],
   "source": [
    "def station_max_mesure(stations):\n",
    "    mesure_max = 0\n",
    "    code_bss = ''\n",
    "    station = {}\n",
    "\n",
    "    for s in stations:\n",
    "        mesures = s['nb_mesures_piezo']\n",
    "        if mesures > mesure_max:\n",
    "            mesure_max = mesures\n",
    "            code_bss = s['code_bss']\n",
    "            station = s\n",
    "    \n",
    "    print(f\"la station {code_bss} possède le plus de mesure avec {mesure_max} mesures.\")\n",
    "    \n",
    "    return station\n",
    "\n",
    "station = station_max_mesure(stations)"
   ]
  },
  {
   "cell_type": "code",
   "execution_count": 9,
   "id": "749842c2",
   "metadata": {},
   "outputs": [
    {
     "name": "stdout",
     "output_type": "stream",
     "text": [
      "il y a 1682 mesures | 1988-06-16 -> 2022-02-22 (33.71 ans) | moyenne = 4.10 mesures/mois\n"
     ]
    }
   ],
   "source": [
    "print_station_date(station)"
   ]
  },
  {
   "cell_type": "markdown",
   "id": "150a112e",
   "metadata": {},
   "source": [
    "## une au hasard"
   ]
  },
  {
   "cell_type": "code",
   "execution_count": 10,
   "id": "d5c79ffc",
   "metadata": {},
   "outputs": [
    {
     "name": "stdout",
     "output_type": "stream",
     "text": [
      "il y a 384 mesures | 1969-06-07 -> 1990-01-18 (20.63 ans) | moyenne = 1.53 mesures/mois\n"
     ]
    }
   ],
   "source": [
    "def random_station(stations):\n",
    "    n_stations = len(stations) - 1\n",
    "    idx = random.randint(0,n_stations)\n",
    "\n",
    "    station = stations[idx]\n",
    "    \n",
    "    print_station_date(station)\n",
    "    \n",
    "    return station\n",
    "\n",
    "station_hasard = random_station(stations)"
   ]
  },
  {
   "cell_type": "markdown",
   "id": "f93d8b0a",
   "metadata": {},
   "source": [
    "## Faire une liste"
   ]
  },
  {
   "cell_type": "code",
   "execution_count": 11,
   "id": "18800cfd",
   "metadata": {},
   "outputs": [],
   "source": [
    "df_stations = pd.DataFrame(stations) \n",
    "pd.set_option('display.max_columns', None)\n",
    "pd.options.mode.chained_assignment = None "
   ]
  },
  {
   "cell_type": "code",
   "execution_count": 12,
   "id": "2867903d",
   "metadata": {},
   "outputs": [],
   "source": [
    "cols = ['code_bss', 'date_debut_mesure', 'date_fin_mesure', 'x', 'y', 'nb_mesures_piezo', 'date_maj']\n",
    "df_stations_light = df_stations[cols]\n",
    "\n",
    "df_stations_light['date_debut_mesure'] = pd.to_datetime(df_stations_light['date_debut_mesure'])\n",
    "df_stations_light['date_fin_mesure'] = pd.to_datetime(df_stations_light['date_fin_mesure'])"
   ]
  },
  {
   "cell_type": "code",
   "execution_count": 13,
   "id": "3ecf29b8",
   "metadata": {},
   "outputs": [],
   "source": [
    "#moyenne nb_mesure / mois\n",
    "df_stations_light['delta_t'] = df_stations_light['date_fin_mesure'] - df_stations_light['date_debut_mesure']\n",
    "df_stations_light['delta_t_mois'] = df_stations_light['delta_t'].dt.days / 30\n",
    "df_stations_light['moyenne_mesure_mois'] = df_stations_light['nb_mesures_piezo'] / df_stations_light['delta_t_mois']"
   ]
  },
  {
   "cell_type": "code",
   "execution_count": 14,
   "id": "d8dc7163",
   "metadata": {},
   "outputs": [
    {
     "data": {
      "text/html": [
       "<div>\n",
       "<style scoped>\n",
       "    .dataframe tbody tr th:only-of-type {\n",
       "        vertical-align: middle;\n",
       "    }\n",
       "\n",
       "    .dataframe tbody tr th {\n",
       "        vertical-align: top;\n",
       "    }\n",
       "\n",
       "    .dataframe thead th {\n",
       "        text-align: right;\n",
       "    }\n",
       "</style>\n",
       "<table border=\"1\" class=\"dataframe\">\n",
       "  <thead>\n",
       "    <tr style=\"text-align: right;\">\n",
       "      <th></th>\n",
       "      <th>code_bss</th>\n",
       "      <th>date_debut_mesure</th>\n",
       "      <th>date_fin_mesure</th>\n",
       "      <th>x</th>\n",
       "      <th>y</th>\n",
       "      <th>nb_mesures_piezo</th>\n",
       "      <th>date_maj</th>\n",
       "      <th>delta_t</th>\n",
       "      <th>delta_t_mois</th>\n",
       "      <th>moyenne_mesure_mois</th>\n",
       "    </tr>\n",
       "  </thead>\n",
       "  <tbody>\n",
       "    <tr>\n",
       "      <th>19</th>\n",
       "      <td>02723X0900/245R1</td>\n",
       "      <td>1988-06-16</td>\n",
       "      <td>2022-02-22</td>\n",
       "      <td>7.748164</td>\n",
       "      <td>48.583983</td>\n",
       "      <td>1682</td>\n",
       "      <td>Tue Jan 28 19:02:12 CET 2020</td>\n",
       "      <td>12304 days</td>\n",
       "      <td>410.133333</td>\n",
       "      <td>4.101105</td>\n",
       "    </tr>\n",
       "    <tr>\n",
       "      <th>12</th>\n",
       "      <td>02723X0098/245A1</td>\n",
       "      <td>1966-07-01</td>\n",
       "      <td>1999-12-16</td>\n",
       "      <td>7.766629</td>\n",
       "      <td>48.511892</td>\n",
       "      <td>1327</td>\n",
       "      <td>Tue Jan 28 19:02:11 CET 2020</td>\n",
       "      <td>12221 days</td>\n",
       "      <td>407.366667</td>\n",
       "      <td>3.257508</td>\n",
       "    </tr>\n",
       "    <tr>\n",
       "      <th>13</th>\n",
       "      <td>02347X0060/GA1</td>\n",
       "      <td>1968-11-12</td>\n",
       "      <td>1997-01-13</td>\n",
       "      <td>7.809233</td>\n",
       "      <td>48.602935</td>\n",
       "      <td>596</td>\n",
       "      <td>Wed Apr 22 08:06:25 CEST 2020</td>\n",
       "      <td>10289 days</td>\n",
       "      <td>342.966667</td>\n",
       "      <td>1.737778</td>\n",
       "    </tr>\n",
       "    <tr>\n",
       "      <th>14</th>\n",
       "      <td>02723X0238/SOC1</td>\n",
       "      <td>1969-06-07</td>\n",
       "      <td>1990-01-18</td>\n",
       "      <td>7.748228</td>\n",
       "      <td>48.582438</td>\n",
       "      <td>384</td>\n",
       "      <td>Wed Apr 22 20:39:08 CEST 2020</td>\n",
       "      <td>7530 days</td>\n",
       "      <td>251.000000</td>\n",
       "      <td>1.529880</td>\n",
       "    </tr>\n",
       "    <tr>\n",
       "      <th>0</th>\n",
       "      <td>02723X0255/SOC10</td>\n",
       "      <td>1969-05-10</td>\n",
       "      <td>1985-12-16</td>\n",
       "      <td>7.783675</td>\n",
       "      <td>48.594645</td>\n",
       "      <td>250</td>\n",
       "      <td>Wed Apr 22 20:39:08 CEST 2020</td>\n",
       "      <td>6064 days</td>\n",
       "      <td>202.133333</td>\n",
       "      <td>1.236807</td>\n",
       "    </tr>\n",
       "    <tr>\n",
       "      <th>6</th>\n",
       "      <td>02723X0189/SOC11</td>\n",
       "      <td>1969-05-08</td>\n",
       "      <td>1985-12-16</td>\n",
       "      <td>7.760567</td>\n",
       "      <td>48.565818</td>\n",
       "      <td>247</td>\n",
       "      <td>Wed Apr 22 20:39:08 CEST 2020</td>\n",
       "      <td>6066 days</td>\n",
       "      <td>202.200000</td>\n",
       "      <td>1.221563</td>\n",
       "    </tr>\n",
       "    <tr>\n",
       "      <th>7</th>\n",
       "      <td>02723X0279/SOC21</td>\n",
       "      <td>1969-09-18</td>\n",
       "      <td>1985-12-16</td>\n",
       "      <td>7.741601</td>\n",
       "      <td>48.587244</td>\n",
       "      <td>210</td>\n",
       "      <td>Thu Apr 23 07:32:19 CEST 2020</td>\n",
       "      <td>5933 days</td>\n",
       "      <td>197.766667</td>\n",
       "      <td>1.061857</td>\n",
       "    </tr>\n",
       "    <tr>\n",
       "      <th>2</th>\n",
       "      <td>02723X0361/SOC30</td>\n",
       "      <td>1969-10-21</td>\n",
       "      <td>1997-01-29</td>\n",
       "      <td>7.784080</td>\n",
       "      <td>48.541528</td>\n",
       "      <td>196</td>\n",
       "      <td>Thu Apr 23 07:32:19 CEST 2020</td>\n",
       "      <td>9962 days</td>\n",
       "      <td>332.066667</td>\n",
       "      <td>0.590243</td>\n",
       "    </tr>\n",
       "    <tr>\n",
       "      <th>10</th>\n",
       "      <td>02723X0878/GET41</td>\n",
       "      <td>1988-10-21</td>\n",
       "      <td>1996-06-27</td>\n",
       "      <td>7.752935</td>\n",
       "      <td>48.577733</td>\n",
       "      <td>117</td>\n",
       "      <td>Wed Apr 22 20:39:08 CEST 2020</td>\n",
       "      <td>2806 days</td>\n",
       "      <td>93.533333</td>\n",
       "      <td>1.250891</td>\n",
       "    </tr>\n",
       "    <tr>\n",
       "      <th>5</th>\n",
       "      <td>02347X0001/501</td>\n",
       "      <td>1967-07-19</td>\n",
       "      <td>1998-01-28</td>\n",
       "      <td>7.804221</td>\n",
       "      <td>48.632254</td>\n",
       "      <td>107</td>\n",
       "      <td>Wed Apr 22 08:04:52 CEST 2020</td>\n",
       "      <td>11151 days</td>\n",
       "      <td>371.700000</td>\n",
       "      <td>0.287867</td>\n",
       "    </tr>\n",
       "    <tr>\n",
       "      <th>17</th>\n",
       "      <td>02347X0083/P1</td>\n",
       "      <td>1973-01-24</td>\n",
       "      <td>1977-12-29</td>\n",
       "      <td>7.759789</td>\n",
       "      <td>48.600801</td>\n",
       "      <td>70</td>\n",
       "      <td>Wed Apr 22 20:39:08 CEST 2020</td>\n",
       "      <td>1800 days</td>\n",
       "      <td>60.000000</td>\n",
       "      <td>1.166667</td>\n",
       "    </tr>\n",
       "    <tr>\n",
       "      <th>8</th>\n",
       "      <td>02723X0121/S21</td>\n",
       "      <td>1971-01-12</td>\n",
       "      <td>1972-07-25</td>\n",
       "      <td>7.787881</td>\n",
       "      <td>48.526965</td>\n",
       "      <td>69</td>\n",
       "      <td>Wed Apr 22 20:39:08 CEST 2020</td>\n",
       "      <td>560 days</td>\n",
       "      <td>18.666667</td>\n",
       "      <td>3.696429</td>\n",
       "    </tr>\n",
       "    <tr>\n",
       "      <th>4</th>\n",
       "      <td>02727X0037/S50</td>\n",
       "      <td>1971-01-12</td>\n",
       "      <td>1972-07-25</td>\n",
       "      <td>7.789253</td>\n",
       "      <td>48.509678</td>\n",
       "      <td>69</td>\n",
       "      <td>Wed Apr 22 20:39:08 CEST 2020</td>\n",
       "      <td>560 days</td>\n",
       "      <td>18.666667</td>\n",
       "      <td>3.696429</td>\n",
       "    </tr>\n",
       "    <tr>\n",
       "      <th>3</th>\n",
       "      <td>02723X0293/S40</td>\n",
       "      <td>1971-01-12</td>\n",
       "      <td>1972-07-25</td>\n",
       "      <td>7.798671</td>\n",
       "      <td>48.530051</td>\n",
       "      <td>68</td>\n",
       "      <td>Thu Apr 23 07:32:19 CEST 2020</td>\n",
       "      <td>560 days</td>\n",
       "      <td>18.666667</td>\n",
       "      <td>3.642857</td>\n",
       "    </tr>\n",
       "    <tr>\n",
       "      <th>9</th>\n",
       "      <td>02723X0294/S41</td>\n",
       "      <td>1971-01-26</td>\n",
       "      <td>1972-07-25</td>\n",
       "      <td>7.792740</td>\n",
       "      <td>48.519248</td>\n",
       "      <td>65</td>\n",
       "      <td>Thu Apr 23 07:32:19 CEST 2020</td>\n",
       "      <td>546 days</td>\n",
       "      <td>18.200000</td>\n",
       "      <td>3.571429</td>\n",
       "    </tr>\n",
       "    <tr>\n",
       "      <th>1</th>\n",
       "      <td>02723X0110/S20</td>\n",
       "      <td>1971-01-12</td>\n",
       "      <td>1971-08-31</td>\n",
       "      <td>7.779212</td>\n",
       "      <td>48.528374</td>\n",
       "      <td>30</td>\n",
       "      <td>Wed Apr 22 20:39:08 CEST 2020</td>\n",
       "      <td>231 days</td>\n",
       "      <td>7.700000</td>\n",
       "      <td>3.896104</td>\n",
       "    </tr>\n",
       "    <tr>\n",
       "      <th>16</th>\n",
       "      <td>02723X0631/P1</td>\n",
       "      <td>1983-03-23</td>\n",
       "      <td>1983-08-18</td>\n",
       "      <td>7.797790</td>\n",
       "      <td>48.598670</td>\n",
       "      <td>3</td>\n",
       "      <td>Wed Apr 22 20:39:08 CEST 2020</td>\n",
       "      <td>148 days</td>\n",
       "      <td>4.933333</td>\n",
       "      <td>0.608108</td>\n",
       "    </tr>\n",
       "    <tr>\n",
       "      <th>18</th>\n",
       "      <td>02723X1200/R1</td>\n",
       "      <td>1999-09-17</td>\n",
       "      <td>2000-03-24</td>\n",
       "      <td>7.784897</td>\n",
       "      <td>48.543914</td>\n",
       "      <td>3</td>\n",
       "      <td>Tue Apr 21 20:20:26 CEST 2020</td>\n",
       "      <td>189 days</td>\n",
       "      <td>6.300000</td>\n",
       "      <td>0.476190</td>\n",
       "    </tr>\n",
       "    <tr>\n",
       "      <th>15</th>\n",
       "      <td>02723X0968/F1</td>\n",
       "      <td>1990-08-28</td>\n",
       "      <td>1990-08-29</td>\n",
       "      <td>7.765793</td>\n",
       "      <td>48.536050</td>\n",
       "      <td>2</td>\n",
       "      <td>Tue Apr 21 20:20:08 CEST 2020</td>\n",
       "      <td>1 days</td>\n",
       "      <td>0.033333</td>\n",
       "      <td>60.000000</td>\n",
       "    </tr>\n",
       "    <tr>\n",
       "      <th>11</th>\n",
       "      <td>02723X1186/AMT_1</td>\n",
       "      <td>1998-12-08</td>\n",
       "      <td>1998-12-08</td>\n",
       "      <td>7.737233</td>\n",
       "      <td>48.563588</td>\n",
       "      <td>1</td>\n",
       "      <td>Tue Apr 21 20:20:26 CEST 2020</td>\n",
       "      <td>0 days</td>\n",
       "      <td>0.000000</td>\n",
       "      <td>inf</td>\n",
       "    </tr>\n",
       "  </tbody>\n",
       "</table>\n",
       "</div>"
      ],
      "text/plain": [
       "            code_bss date_debut_mesure date_fin_mesure         x          y  \\\n",
       "19  02723X0900/245R1        1988-06-16      2022-02-22  7.748164  48.583983   \n",
       "12  02723X0098/245A1        1966-07-01      1999-12-16  7.766629  48.511892   \n",
       "13    02347X0060/GA1        1968-11-12      1997-01-13  7.809233  48.602935   \n",
       "14   02723X0238/SOC1        1969-06-07      1990-01-18  7.748228  48.582438   \n",
       "0   02723X0255/SOC10        1969-05-10      1985-12-16  7.783675  48.594645   \n",
       "6   02723X0189/SOC11        1969-05-08      1985-12-16  7.760567  48.565818   \n",
       "7   02723X0279/SOC21        1969-09-18      1985-12-16  7.741601  48.587244   \n",
       "2   02723X0361/SOC30        1969-10-21      1997-01-29  7.784080  48.541528   \n",
       "10  02723X0878/GET41        1988-10-21      1996-06-27  7.752935  48.577733   \n",
       "5     02347X0001/501        1967-07-19      1998-01-28  7.804221  48.632254   \n",
       "17     02347X0083/P1        1973-01-24      1977-12-29  7.759789  48.600801   \n",
       "8     02723X0121/S21        1971-01-12      1972-07-25  7.787881  48.526965   \n",
       "4     02727X0037/S50        1971-01-12      1972-07-25  7.789253  48.509678   \n",
       "3     02723X0293/S40        1971-01-12      1972-07-25  7.798671  48.530051   \n",
       "9     02723X0294/S41        1971-01-26      1972-07-25  7.792740  48.519248   \n",
       "1     02723X0110/S20        1971-01-12      1971-08-31  7.779212  48.528374   \n",
       "16     02723X0631/P1        1983-03-23      1983-08-18  7.797790  48.598670   \n",
       "18     02723X1200/R1        1999-09-17      2000-03-24  7.784897  48.543914   \n",
       "15     02723X0968/F1        1990-08-28      1990-08-29  7.765793  48.536050   \n",
       "11  02723X1186/AMT_1        1998-12-08      1998-12-08  7.737233  48.563588   \n",
       "\n",
       "    nb_mesures_piezo                       date_maj    delta_t  delta_t_mois  \\\n",
       "19              1682   Tue Jan 28 19:02:12 CET 2020 12304 days    410.133333   \n",
       "12              1327   Tue Jan 28 19:02:11 CET 2020 12221 days    407.366667   \n",
       "13               596  Wed Apr 22 08:06:25 CEST 2020 10289 days    342.966667   \n",
       "14               384  Wed Apr 22 20:39:08 CEST 2020  7530 days    251.000000   \n",
       "0                250  Wed Apr 22 20:39:08 CEST 2020  6064 days    202.133333   \n",
       "6                247  Wed Apr 22 20:39:08 CEST 2020  6066 days    202.200000   \n",
       "7                210  Thu Apr 23 07:32:19 CEST 2020  5933 days    197.766667   \n",
       "2                196  Thu Apr 23 07:32:19 CEST 2020  9962 days    332.066667   \n",
       "10               117  Wed Apr 22 20:39:08 CEST 2020  2806 days     93.533333   \n",
       "5                107  Wed Apr 22 08:04:52 CEST 2020 11151 days    371.700000   \n",
       "17                70  Wed Apr 22 20:39:08 CEST 2020  1800 days     60.000000   \n",
       "8                 69  Wed Apr 22 20:39:08 CEST 2020   560 days     18.666667   \n",
       "4                 69  Wed Apr 22 20:39:08 CEST 2020   560 days     18.666667   \n",
       "3                 68  Thu Apr 23 07:32:19 CEST 2020   560 days     18.666667   \n",
       "9                 65  Thu Apr 23 07:32:19 CEST 2020   546 days     18.200000   \n",
       "1                 30  Wed Apr 22 20:39:08 CEST 2020   231 days      7.700000   \n",
       "16                 3  Wed Apr 22 20:39:08 CEST 2020   148 days      4.933333   \n",
       "18                 3  Tue Apr 21 20:20:26 CEST 2020   189 days      6.300000   \n",
       "15                 2  Tue Apr 21 20:20:08 CEST 2020     1 days      0.033333   \n",
       "11                 1  Tue Apr 21 20:20:26 CEST 2020     0 days      0.000000   \n",
       "\n",
       "    moyenne_mesure_mois  \n",
       "19             4.101105  \n",
       "12             3.257508  \n",
       "13             1.737778  \n",
       "14             1.529880  \n",
       "0              1.236807  \n",
       "6              1.221563  \n",
       "7              1.061857  \n",
       "2              0.590243  \n",
       "10             1.250891  \n",
       "5              0.287867  \n",
       "17             1.166667  \n",
       "8              3.696429  \n",
       "4              3.696429  \n",
       "3              3.642857  \n",
       "9              3.571429  \n",
       "1              3.896104  \n",
       "16             0.608108  \n",
       "18             0.476190  \n",
       "15            60.000000  \n",
       "11                  inf  "
      ]
     },
     "execution_count": 14,
     "metadata": {},
     "output_type": "execute_result"
    }
   ],
   "source": [
    "sortBy = ['nb_mesures_piezo']\n",
    "\n",
    "df_stations_light.sort_values(by=sortBy, ascending=False)"
   ]
  },
  {
   "cell_type": "code",
   "execution_count": null,
   "id": "d86d96df",
   "metadata": {},
   "outputs": [],
   "source": []
  },
  {
   "cell_type": "code",
   "execution_count": 15,
   "id": "983ee74f",
   "metadata": {},
   "outputs": [],
   "source": [
    "def return_list_position(df_stations):\n",
    "\n",
    "    positions_df = df_stations[['y', 'x', 'nb_mesures_piezo']]\n",
    "\n",
    "    list_positions = []\n",
    "    labels = []\n",
    "\n",
    "    for i in positions_df.index:\n",
    "        lon = positions_df.iloc[i, 0]\n",
    "        lat = positions_df.iloc[i, 1]\n",
    "        nbre_mesure = positions_df.iloc[i, 2]\n",
    "\n",
    "        loc = (lon, lat)\n",
    "\n",
    "        list_positions.append(loc)\n",
    "        labels.append(nbre_mesure)\n",
    "        \n",
    "    return list_positions, labels"
   ]
  },
  {
   "cell_type": "code",
   "execution_count": 16,
   "id": "e3440fa9",
   "metadata": {},
   "outputs": [
    {
     "data": {
      "application/vnd.jupyter.widget-view+json": {
       "model_id": "1921216648994ad5976008de16e4c7ed",
       "version_major": 2,
       "version_minor": 0
      },
      "text/plain": [
       "Map(center=[48.594645, 7.783675], controls=(ZoomControl(options=['position', 'zoom_in_text', 'zoom_in_title', …"
      ]
     },
     "metadata": {},
     "output_type": "display_data"
    }
   ],
   "source": [
    "from ipyleaflet import Map, Marker\n",
    "\n",
    "positions, labels = return_list_position(df_stations)\n",
    "\n",
    "center = positions[0]\n",
    "\n",
    "m = Map(center=center, zoom=10)\n",
    "\n",
    "for loc in positions:\n",
    "    marker = Marker(location=loc, draggable=False)\n",
    "    m.add_layer(marker)\n",
    "\n",
    "m"
   ]
  },
  {
   "cell_type": "code",
   "execution_count": 17,
   "id": "6bc038d7",
   "metadata": {
    "scrolled": true
   },
   "outputs": [
    {
     "data": {
      "application/vnd.jupyter.widget-view+json": {
       "model_id": "0e7f9189886d41618bbe3720c0308635",
       "version_major": 2,
       "version_minor": 0
      },
      "text/plain": [
       "Map(center=[48.583983073, 7.748164097], controls=(ZoomControl(options=['position', 'zoom_in_text', 'zoom_in_ti…"
      ]
     },
     "metadata": {},
     "output_type": "display_data"
    }
   ],
   "source": [
    "# affiche la localisation de la station slectionnée\n",
    "loc = (station['y'], station['x'])\n",
    "\n",
    "m = Map(center=loc, zoom=15)\n",
    "marker = Marker(location=loc, draggable=False)\n",
    "m.add_layer(marker)\n",
    "m"
   ]
  },
  {
   "cell_type": "code",
   "execution_count": 29,
   "id": "c9e9e188",
   "metadata": {},
   "outputs": [
    {
     "data": {
      "text/plain": [
       "{'code_bss': '02723X0900/245R1',\n",
       " 'urn_bss': 'http://services.ades.eaufrance.fr/pointeau/02723X0900/245R1',\n",
       " 'date_debut_mesure': '1988-06-16',\n",
       " 'date_fin_mesure': '2022-02-22',\n",
       " 'code_commune_insee': '67482',\n",
       " 'nom_commune': 'Strasbourg',\n",
       " 'x': 7.748164097,\n",
       " 'y': 48.583983073,\n",
       " 'codes_bdlisa': ['221AA19'],\n",
       " 'urns_bdlisa': ['http://reseau.eaufrance.fr/geotraitements/bdlisa/files/entite/221AA19.pdf'],\n",
       " 'geometry': {'type': 'Point',\n",
       "  'crs': {'type': 'name',\n",
       "   'properties': {'name': 'urn:ogc:def:crs:OGC:1.3:CRS84'}},\n",
       "  'coordinates': [7.74816409653114, 48.5839830730888]},\n",
       " 'bss_id': 'BSS000VAXH',\n",
       " 'altitude_station': '141.51',\n",
       " 'nb_mesures_piezo': 1682,\n",
       " 'code_departement': '67',\n",
       " 'nom_departement': 'Bas-Rhin',\n",
       " 'libelle_pe': 'Puits de PLACE DES ETUDIANTS',\n",
       " 'profondeur_investigation': 10.4,\n",
       " 'codes_masse_eau_edl': ['CG101'],\n",
       " 'noms_masse_eau_edl': ['Nappe d’Alsace, Pliocène de Haguenau et Oligocène'],\n",
       " 'urns_masse_eau_edl': ['http://www.sandre.eaufrance.fr/geo/MasseDEauSouterraine/CG101'],\n",
       " 'date_maj': 'Tue Jan 28 19:02:12 CET 2020'}"
      ]
     },
     "execution_count": 29,
     "metadata": {},
     "output_type": "execute_result"
    }
   ],
   "source": [
    "station"
   ]
  },
  {
   "cell_type": "code",
   "execution_count": 35,
   "id": "d92bc3eb",
   "metadata": {},
   "outputs": [
    {
     "data": {
      "text/html": [
       "<div>\n",
       "<style scoped>\n",
       "    .dataframe tbody tr th:only-of-type {\n",
       "        vertical-align: middle;\n",
       "    }\n",
       "\n",
       "    .dataframe tbody tr th {\n",
       "        vertical-align: top;\n",
       "    }\n",
       "\n",
       "    .dataframe thead th {\n",
       "        text-align: right;\n",
       "    }\n",
       "</style>\n",
       "<table border=\"1\" class=\"dataframe\">\n",
       "  <thead>\n",
       "    <tr style=\"text-align: right;\">\n",
       "      <th></th>\n",
       "      <th>lat</th>\n",
       "      <th>lon</th>\n",
       "    </tr>\n",
       "  </thead>\n",
       "  <tbody>\n",
       "    <tr>\n",
       "      <th>0</th>\n",
       "      <td>48.583983</td>\n",
       "      <td>7.748164</td>\n",
       "    </tr>\n",
       "  </tbody>\n",
       "</table>\n",
       "</div>"
      ],
      "text/plain": [
       "         lat       lon\n",
       "0  48.583983  7.748164"
      ]
     },
     "execution_count": 35,
     "metadata": {},
     "output_type": "execute_result"
    }
   ],
   "source": [
    "def station_to_map(station):\n",
    "    cols = ['y', 'x']\n",
    "\n",
    "    df_station = pd.DataFrame(station, index=[0])\n",
    "    df_station = df_station[cols]\n",
    "    df_station.rename(columns={'x':'lon'}, inplace=True)\n",
    "    df_station.rename(columns={'y':'lat'}, inplace=True)\n",
    "    \n",
    "    return df_station\n",
    "\n",
    "df_temp = station_to_map(station)\n",
    "df_temp"
   ]
  },
  {
   "cell_type": "markdown",
   "id": "78b1c7e2",
   "metadata": {},
   "source": [
    "# Recup la chronique de la station"
   ]
  },
  {
   "cell_type": "code",
   "execution_count": 18,
   "id": "0748f8f9",
   "metadata": {},
   "outputs": [],
   "source": [
    "def recup_chronique(code_bss, size=5000):\n",
    "    \n",
    "    chronique_url = f'https://hubeau.eaufrance.fr/api/v1/niveaux_nappes/chroniques?code_bss={code_bss}&size={str(size)}'\n",
    "\n",
    "    chronique_req = requests.get(chronique_url).json()\n",
    "    chroniques = chronique_req['data']\n",
    "    print(f\"il y a {len(chroniques)} mesure(s)\")\n",
    "    \n",
    "    return chronique_req, chroniques"
   ]
  },
  {
   "cell_type": "code",
   "execution_count": 19,
   "id": "f9ba0f0f",
   "metadata": {},
   "outputs": [
    {
     "name": "stdout",
     "output_type": "stream",
     "text": [
      "il y a 1682 mesure(s)\n"
     ]
    }
   ],
   "source": [
    "code_bss = str(station['code_bss'])\n",
    "\n",
    "chronique_req, chroniques = recup_chronique(code_bss, size=5000)"
   ]
  },
  {
   "cell_type": "code",
   "execution_count": 20,
   "id": "c2cd314f",
   "metadata": {},
   "outputs": [
    {
     "data": {
      "text/plain": [
       "dict_keys(['count', 'first', 'last', 'prev', 'next', 'api_version', 'data'])"
      ]
     },
     "execution_count": 20,
     "metadata": {},
     "output_type": "execute_result"
    }
   ],
   "source": [
    "chronique_req.keys()"
   ]
  },
  {
   "cell_type": "code",
   "execution_count": 21,
   "id": "6ee77303",
   "metadata": {},
   "outputs": [
    {
     "data": {
      "text/plain": [
       "{'code_bss': '02723X0900/245R1',\n",
       " 'urn_bss': 'http://services.ades.eaufrance.fr/pointeau/02723X0900/245R1',\n",
       " 'date_mesure': '1988-06-16',\n",
       " 'timestamp_mesure': 582422400000,\n",
       " 'niveau_nappe_eau': 135.69,\n",
       " 'mode_obtention': 'Valeur mesurée',\n",
       " 'statut': 'Donnée contrôlée niveau 1',\n",
       " 'qualification': 'Correcte',\n",
       " 'code_continuite': '2',\n",
       " 'nom_continuite': 'Point lié au point précédent',\n",
       " 'code_producteur': '40494388800036',\n",
       " 'nom_producteur': 'APRONA (40494388800036)',\n",
       " 'code_nature_mesure': None,\n",
       " 'nom_nature_mesure': None,\n",
       " 'profondeur_nappe': 5.81}"
      ]
     },
     "execution_count": 21,
     "metadata": {},
     "output_type": "execute_result"
    }
   ],
   "source": [
    "chroniques[0]"
   ]
  },
  {
   "cell_type": "code",
   "execution_count": 22,
   "id": "51c51537",
   "metadata": {
    "scrolled": true
   },
   "outputs": [
    {
     "data": {
      "text/plain": [
       "<AxesSubplot:xlabel='date_mesure'>"
      ]
     },
     "execution_count": 22,
     "metadata": {},
     "output_type": "execute_result"
    },
    {
     "data": {
      "image/png": "[encoded data removed]",
      "text/plain": [
       "<Figure size 432x288 with 1 Axes>"
      ]
     },
     "metadata": {
      "needs_background": "light"
     },
     "output_type": "display_data"
    }
   ],
   "source": [
    "#transformation chroniques -> df time series\n",
    "\n",
    "#chroniques (list) -> df\n",
    "df_chronique_brut = pd.DataFrame(chroniques)\n",
    "# df -> .csv\n",
    "df_chronique_brut.to_csv('data.csv', index=False)\n",
    "# csv -> df time series\n",
    "df_chronique = pd.read_csv('data.csv', index_col='date_mesure', parse_dates=True)\n",
    "#plot\n",
    "df_chronique['niveau_nappe_eau'].plot()"
   ]
  },
  {
   "cell_type": "code",
   "execution_count": 23,
   "id": "b22d4ac5",
   "metadata": {
    "scrolled": true
   },
   "outputs": [
    {
     "data": {
      "text/html": [
       "<div>\n",
       "<style scoped>\n",
       "    .dataframe tbody tr th:only-of-type {\n",
       "        vertical-align: middle;\n",
       "    }\n",
       "\n",
       "    .dataframe tbody tr th {\n",
       "        vertical-align: top;\n",
       "    }\n",
       "\n",
       "    .dataframe thead th {\n",
       "        text-align: right;\n",
       "    }\n",
       "</style>\n",
       "<table border=\"1\" class=\"dataframe\">\n",
       "  <thead>\n",
       "    <tr style=\"text-align: right;\">\n",
       "      <th></th>\n",
       "      <th>code_bss</th>\n",
       "      <th>urn_bss</th>\n",
       "      <th>timestamp_mesure</th>\n",
       "      <th>niveau_nappe_eau</th>\n",
       "      <th>mode_obtention</th>\n",
       "      <th>statut</th>\n",
       "      <th>qualification</th>\n",
       "      <th>code_continuite</th>\n",
       "      <th>nom_continuite</th>\n",
       "      <th>code_producteur</th>\n",
       "      <th>nom_producteur</th>\n",
       "      <th>code_nature_mesure</th>\n",
       "      <th>nom_nature_mesure</th>\n",
       "      <th>profondeur_nappe</th>\n",
       "    </tr>\n",
       "    <tr>\n",
       "      <th>date_mesure</th>\n",
       "      <th></th>\n",
       "      <th></th>\n",
       "      <th></th>\n",
       "      <th></th>\n",
       "      <th></th>\n",
       "      <th></th>\n",
       "      <th></th>\n",
       "      <th></th>\n",
       "      <th></th>\n",
       "      <th></th>\n",
       "      <th></th>\n",
       "      <th></th>\n",
       "      <th></th>\n",
       "      <th></th>\n",
       "    </tr>\n",
       "  </thead>\n",
       "  <tbody>\n",
       "    <tr>\n",
       "      <th>1988-06-16</th>\n",
       "      <td>02723X0900/245R1</td>\n",
       "      <td>http://services.ades.eaufrance.fr/pointeau/027...</td>\n",
       "      <td>582422400000</td>\n",
       "      <td>135.69</td>\n",
       "      <td>Valeur mesurée</td>\n",
       "      <td>Donnée contrôlée niveau 1</td>\n",
       "      <td>Correcte</td>\n",
       "      <td>2</td>\n",
       "      <td>Point lié au point précédent</td>\n",
       "      <td>40494388800036</td>\n",
       "      <td>APRONA (40494388800036)</td>\n",
       "      <td>NaN</td>\n",
       "      <td>NaN</td>\n",
       "      <td>5.81</td>\n",
       "    </tr>\n",
       "    <tr>\n",
       "      <th>1988-10-21</th>\n",
       "      <td>02723X0900/245R1</td>\n",
       "      <td>http://services.ades.eaufrance.fr/pointeau/027...</td>\n",
       "      <td>593395200000</td>\n",
       "      <td>135.72</td>\n",
       "      <td>Valeur mesurée</td>\n",
       "      <td>Donnée contrôlée niveau 1</td>\n",
       "      <td>Correcte</td>\n",
       "      <td>1</td>\n",
       "      <td>Point initial</td>\n",
       "      <td>40494388800036</td>\n",
       "      <td>APRONA (40494388800036)</td>\n",
       "      <td>NaN</td>\n",
       "      <td>NaN</td>\n",
       "      <td>5.78</td>\n",
       "    </tr>\n",
       "    <tr>\n",
       "      <th>1988-11-04</th>\n",
       "      <td>02723X0900/245R1</td>\n",
       "      <td>http://services.ades.eaufrance.fr/pointeau/027...</td>\n",
       "      <td>594604800000</td>\n",
       "      <td>135.70</td>\n",
       "      <td>Valeur mesurée</td>\n",
       "      <td>Donnée contrôlée niveau 1</td>\n",
       "      <td>Correcte</td>\n",
       "      <td>1</td>\n",
       "      <td>Point initial</td>\n",
       "      <td>40494388800036</td>\n",
       "      <td>APRONA (40494388800036)</td>\n",
       "      <td>NaN</td>\n",
       "      <td>NaN</td>\n",
       "      <td>5.80</td>\n",
       "    </tr>\n",
       "    <tr>\n",
       "      <th>1988-11-18</th>\n",
       "      <td>02723X0900/245R1</td>\n",
       "      <td>http://services.ades.eaufrance.fr/pointeau/027...</td>\n",
       "      <td>595814400000</td>\n",
       "      <td>135.65</td>\n",
       "      <td>Valeur mesurée</td>\n",
       "      <td>Donnée contrôlée niveau 1</td>\n",
       "      <td>Correcte</td>\n",
       "      <td>1</td>\n",
       "      <td>Point initial</td>\n",
       "      <td>40494388800036</td>\n",
       "      <td>APRONA (40494388800036)</td>\n",
       "      <td>NaN</td>\n",
       "      <td>NaN</td>\n",
       "      <td>5.85</td>\n",
       "    </tr>\n",
       "    <tr>\n",
       "      <th>1988-12-19</th>\n",
       "      <td>02723X0900/245R1</td>\n",
       "      <td>http://services.ades.eaufrance.fr/pointeau/027...</td>\n",
       "      <td>598492800000</td>\n",
       "      <td>135.85</td>\n",
       "      <td>Valeur mesurée</td>\n",
       "      <td>Donnée contrôlée niveau 1</td>\n",
       "      <td>Correcte</td>\n",
       "      <td>1</td>\n",
       "      <td>Point initial</td>\n",
       "      <td>40494388800036</td>\n",
       "      <td>APRONA (40494388800036)</td>\n",
       "      <td>NaN</td>\n",
       "      <td>NaN</td>\n",
       "      <td>5.65</td>\n",
       "    </tr>\n",
       "  </tbody>\n",
       "</table>\n",
       "</div>"
      ],
      "text/plain": [
       "                     code_bss  \\\n",
       "date_mesure                     \n",
       "1988-06-16   02723X0900/245R1   \n",
       "1988-10-21   02723X0900/245R1   \n",
       "1988-11-04   02723X0900/245R1   \n",
       "1988-11-18   02723X0900/245R1   \n",
       "1988-12-19   02723X0900/245R1   \n",
       "\n",
       "                                                       urn_bss  \\\n",
       "date_mesure                                                      \n",
       "1988-06-16   http://services.ades.eaufrance.fr/pointeau/027...   \n",
       "1988-10-21   http://services.ades.eaufrance.fr/pointeau/027...   \n",
       "1988-11-04   http://services.ades.eaufrance.fr/pointeau/027...   \n",
       "1988-11-18   http://services.ades.eaufrance.fr/pointeau/027...   \n",
       "1988-12-19   http://services.ades.eaufrance.fr/pointeau/027...   \n",
       "\n",
       "             timestamp_mesure  niveau_nappe_eau  mode_obtention  \\\n",
       "date_mesure                                                       \n",
       "1988-06-16       582422400000            135.69  Valeur mesurée   \n",
       "1988-10-21       593395200000            135.72  Valeur mesurée   \n",
       "1988-11-04       594604800000            135.70  Valeur mesurée   \n",
       "1988-11-18       595814400000            135.65  Valeur mesurée   \n",
       "1988-12-19       598492800000            135.85  Valeur mesurée   \n",
       "\n",
       "                                statut qualification  code_continuite  \\\n",
       "date_mesure                                                             \n",
       "1988-06-16   Donnée contrôlée niveau 1      Correcte                2   \n",
       "1988-10-21   Donnée contrôlée niveau 1      Correcte                1   \n",
       "1988-11-04   Donnée contrôlée niveau 1      Correcte                1   \n",
       "1988-11-18   Donnée contrôlée niveau 1      Correcte                1   \n",
       "1988-12-19   Donnée contrôlée niveau 1      Correcte                1   \n",
       "\n",
       "                           nom_continuite  code_producteur  \\\n",
       "date_mesure                                                  \n",
       "1988-06-16   Point lié au point précédent   40494388800036   \n",
       "1988-10-21                  Point initial   40494388800036   \n",
       "1988-11-04                  Point initial   40494388800036   \n",
       "1988-11-18                  Point initial   40494388800036   \n",
       "1988-12-19                  Point initial   40494388800036   \n",
       "\n",
       "                      nom_producteur  code_nature_mesure  nom_nature_mesure  \\\n",
       "date_mesure                                                                   \n",
       "1988-06-16   APRONA (40494388800036)                 NaN                NaN   \n",
       "1988-10-21   APRONA (40494388800036)                 NaN                NaN   \n",
       "1988-11-04   APRONA (40494388800036)                 NaN                NaN   \n",
       "1988-11-18   APRONA (40494388800036)                 NaN                NaN   \n",
       "1988-12-19   APRONA (40494388800036)                 NaN                NaN   \n",
       "\n",
       "             profondeur_nappe  \n",
       "date_mesure                    \n",
       "1988-06-16               5.81  \n",
       "1988-10-21               5.78  \n",
       "1988-11-04               5.80  \n",
       "1988-11-18               5.85  \n",
       "1988-12-19               5.65  "
      ]
     },
     "execution_count": 23,
     "metadata": {},
     "output_type": "execute_result"
    }
   ],
   "source": [
    "df_chronique.head()"
   ]
  },
  {
   "cell_type": "code",
   "execution_count": 24,
   "id": "3529fca4",
   "metadata": {},
   "outputs": [
    {
     "data": {
      "image/png": "[encoded data removed]",
      "text/plain": [
       "<Figure size 1080x360 with 1 Axes>"
      ]
     },
     "metadata": {
      "needs_background": "light"
     },
     "output_type": "display_data"
    }
   ],
   "source": [
    "resample_size = 'Y'\n",
    "\n",
    "\n",
    "#extrait les stats\n",
    "nappe = df_chronique['profondeur_nappe'].resample(resample_size).agg(['mean', 'std', 'min', 'max'])\n",
    "\n",
    "#plot\n",
    "plt.figure(figsize=(15, 5))\n",
    "nappe['mean'].plot(label='profondeur de nappe')\n",
    "plt.fill_between(nappe.index, nappe['max'], nappe['min'], alpha=0.2, label='min-max')\n",
    "plt.legend()\n",
    "plt.show()"
   ]
  },
  {
   "cell_type": "markdown",
   "id": "f076bf0b",
   "metadata": {},
   "source": [
    "# Display chronique df"
   ]
  },
  {
   "cell_type": "code",
   "execution_count": 25,
   "id": "49bd998d",
   "metadata": {},
   "outputs": [
    {
     "data": {
      "text/html": [
       "<div>\n",
       "<style scoped>\n",
       "    .dataframe tbody tr th:only-of-type {\n",
       "        vertical-align: middle;\n",
       "    }\n",
       "\n",
       "    .dataframe tbody tr th {\n",
       "        vertical-align: top;\n",
       "    }\n",
       "\n",
       "    .dataframe thead th {\n",
       "        text-align: right;\n",
       "    }\n",
       "</style>\n",
       "<table border=\"1\" class=\"dataframe\">\n",
       "  <thead>\n",
       "    <tr style=\"text-align: right;\">\n",
       "      <th></th>\n",
       "      <th>code_bss</th>\n",
       "      <th>urn_bss</th>\n",
       "      <th>timestamp_mesure</th>\n",
       "      <th>niveau_nappe_eau</th>\n",
       "      <th>mode_obtention</th>\n",
       "      <th>statut</th>\n",
       "      <th>qualification</th>\n",
       "      <th>code_continuite</th>\n",
       "      <th>nom_continuite</th>\n",
       "      <th>code_producteur</th>\n",
       "      <th>nom_producteur</th>\n",
       "      <th>code_nature_mesure</th>\n",
       "      <th>nom_nature_mesure</th>\n",
       "      <th>profondeur_nappe</th>\n",
       "    </tr>\n",
       "    <tr>\n",
       "      <th>date_mesure</th>\n",
       "      <th></th>\n",
       "      <th></th>\n",
       "      <th></th>\n",
       "      <th></th>\n",
       "      <th></th>\n",
       "      <th></th>\n",
       "      <th></th>\n",
       "      <th></th>\n",
       "      <th></th>\n",
       "      <th></th>\n",
       "      <th></th>\n",
       "      <th></th>\n",
       "      <th></th>\n",
       "      <th></th>\n",
       "    </tr>\n",
       "  </thead>\n",
       "  <tbody>\n",
       "    <tr>\n",
       "      <th>1988-06-16</th>\n",
       "      <td>02723X0900/245R1</td>\n",
       "      <td>http://services.ades.eaufrance.fr/pointeau/027...</td>\n",
       "      <td>582422400000</td>\n",
       "      <td>135.69</td>\n",
       "      <td>Valeur mesurée</td>\n",
       "      <td>Donnée contrôlée niveau 1</td>\n",
       "      <td>Correcte</td>\n",
       "      <td>2</td>\n",
       "      <td>Point lié au point précédent</td>\n",
       "      <td>40494388800036</td>\n",
       "      <td>APRONA (40494388800036)</td>\n",
       "      <td>NaN</td>\n",
       "      <td>NaN</td>\n",
       "      <td>5.81</td>\n",
       "    </tr>\n",
       "    <tr>\n",
       "      <th>1988-10-21</th>\n",
       "      <td>02723X0900/245R1</td>\n",
       "      <td>http://services.ades.eaufrance.fr/pointeau/027...</td>\n",
       "      <td>593395200000</td>\n",
       "      <td>135.72</td>\n",
       "      <td>Valeur mesurée</td>\n",
       "      <td>Donnée contrôlée niveau 1</td>\n",
       "      <td>Correcte</td>\n",
       "      <td>1</td>\n",
       "      <td>Point initial</td>\n",
       "      <td>40494388800036</td>\n",
       "      <td>APRONA (40494388800036)</td>\n",
       "      <td>NaN</td>\n",
       "      <td>NaN</td>\n",
       "      <td>5.78</td>\n",
       "    </tr>\n",
       "    <tr>\n",
       "      <th>1988-11-04</th>\n",
       "      <td>02723X0900/245R1</td>\n",
       "      <td>http://services.ades.eaufrance.fr/pointeau/027...</td>\n",
       "      <td>594604800000</td>\n",
       "      <td>135.70</td>\n",
       "      <td>Valeur mesurée</td>\n",
       "      <td>Donnée contrôlée niveau 1</td>\n",
       "      <td>Correcte</td>\n",
       "      <td>1</td>\n",
       "      <td>Point initial</td>\n",
       "      <td>40494388800036</td>\n",
       "      <td>APRONA (40494388800036)</td>\n",
       "      <td>NaN</td>\n",
       "      <td>NaN</td>\n",
       "      <td>5.80</td>\n",
       "    </tr>\n",
       "  </tbody>\n",
       "</table>\n",
       "</div>"
      ],
      "text/plain": [
       "                     code_bss  \\\n",
       "date_mesure                     \n",
       "1988-06-16   02723X0900/245R1   \n",
       "1988-10-21   02723X0900/245R1   \n",
       "1988-11-04   02723X0900/245R1   \n",
       "\n",
       "                                                       urn_bss  \\\n",
       "date_mesure                                                      \n",
       "1988-06-16   http://services.ades.eaufrance.fr/pointeau/027...   \n",
       "1988-10-21   http://services.ades.eaufrance.fr/pointeau/027...   \n",
       "1988-11-04   http://services.ades.eaufrance.fr/pointeau/027...   \n",
       "\n",
       "             timestamp_mesure  niveau_nappe_eau  mode_obtention  \\\n",
       "date_mesure                                                       \n",
       "1988-06-16       582422400000            135.69  Valeur mesurée   \n",
       "1988-10-21       593395200000            135.72  Valeur mesurée   \n",
       "1988-11-04       594604800000            135.70  Valeur mesurée   \n",
       "\n",
       "                                statut qualification  code_continuite  \\\n",
       "date_mesure                                                             \n",
       "1988-06-16   Donnée contrôlée niveau 1      Correcte                2   \n",
       "1988-10-21   Donnée contrôlée niveau 1      Correcte                1   \n",
       "1988-11-04   Donnée contrôlée niveau 1      Correcte                1   \n",
       "\n",
       "                           nom_continuite  code_producteur  \\\n",
       "date_mesure                                                  \n",
       "1988-06-16   Point lié au point précédent   40494388800036   \n",
       "1988-10-21                  Point initial   40494388800036   \n",
       "1988-11-04                  Point initial   40494388800036   \n",
       "\n",
       "                      nom_producteur  code_nature_mesure  nom_nature_mesure  \\\n",
       "date_mesure                                                                   \n",
       "1988-06-16   APRONA (40494388800036)                 NaN                NaN   \n",
       "1988-10-21   APRONA (40494388800036)                 NaN                NaN   \n",
       "1988-11-04   APRONA (40494388800036)                 NaN                NaN   \n",
       "\n",
       "             profondeur_nappe  \n",
       "date_mesure                    \n",
       "1988-06-16               5.81  \n",
       "1988-10-21               5.78  \n",
       "1988-11-04               5.80  "
      ]
     },
     "execution_count": 25,
     "metadata": {},
     "output_type": "execute_result"
    }
   ],
   "source": [
    "df_chronique.head(3)"
   ]
  },
  {
   "cell_type": "code",
   "execution_count": 26,
   "id": "f9190ab6",
   "metadata": {},
   "outputs": [],
   "source": [
    "cols_chronique = ['niveau_nappe_eau', 'profondeur_nappe', 'mode_obtention', 'code_producteur']\n",
    "df = df_chronique[cols_chronique]\n",
    "\n",
    "fn = f'piezo_{ville}_{code_bss}.csv'.replace('/','_')\n",
    "\n",
    "df.to_csv(fn)"
   ]
  },
  {
   "cell_type": "code",
   "execution_count": null,
   "id": "bc1eecfd",
   "metadata": {},
   "outputs": [],
   "source": []
  },
  {
   "cell_type": "code",
   "execution_count": null,
   "id": "cb257cf2",
   "metadata": {},
   "outputs": [],
   "source": []
  }
 ],
 "metadata": {
  "kernelspec": {
   "display_name": "Python 3.9.7 ('myenv')",
   "language": "python",
   "name": "python397jvsc74a57bd0e47b1a34c05c1e3b83a62d7885c9d1b5ef8a0522d3be0182d0a008ec409b2b3d"
  },
  "language_info": {
   "codemirror_mode": {
    "name": "ipython",
    "version": 3
   },
   "file_extension": ".py",
   "mimetype": "text/x-python",
   "name": "python",
   "nbconvert_exporter": "python",
   "pygments_lexer": "ipython3",
   "version": "3.9.7"
  }
 },
 "nbformat": 4,
 "nbformat_minor": 5
}
